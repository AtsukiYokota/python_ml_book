{
 "cells": [
  {
   "cell_type": "markdown",
   "metadata": {},
   "source": [
    "# テンソルの階数と形状を取得する"
   ]
  },
  {
   "cell_type": "code",
   "execution_count": 1,
   "metadata": {},
   "outputs": [
    {
     "name": "stderr",
     "output_type": "stream",
     "text": [
      "/home/yokota/.local/lib/python2.7/site-packages/requests/__init__.py:83: RequestsDependencyWarning: Old version of cryptography ([1, 2, 3]) may cause slowdown.\n",
      "  warnings.warn(warning, RequestsDependencyWarning)\n"
     ]
    }
   ],
   "source": [
    "import tensorflow as tf\n",
    "import numpy as np"
   ]
  },
  {
   "cell_type": "code",
   "execution_count": 3,
   "metadata": {},
   "outputs": [
    {
     "name": "stdout",
     "output_type": "stream",
     "text": [
      "Shapes: () (4,) (2, 2)\n",
      "Ranks: 0 1 2\n"
     ]
    }
   ],
   "source": [
    "from __future__ import print_function, division\n",
    "g = tf.Graph()\n",
    "\n",
    "## 計算グラフを定義\n",
    "with g.as_default():\n",
    "    # テンソルt1, t2, t3を定義\n",
    "    t1 = tf.constant(np.pi)\n",
    "    t2 = tf.constant([1, 2, 3, 4])\n",
    "    t3 = tf.constant([[1, 2], [3, 4]])\n",
    "    \n",
    "    ## テンソルt1, t2, t3の階数を取得\n",
    "    r1 = tf.rank(t1)\n",
    "    r2 = tf.rank(t2)\n",
    "    r3 = tf.rank(t3)\n",
    "    \n",
    "    ## テンソルt1, t2, t3の形状を取得\n",
    "    s1 = t1.get_shape()\n",
    "    s2 = t2.get_shape()\n",
    "    s3 = t3.get_shape()\n",
    "    print('Shapes:', s1, s2, s3)\n",
    "\n",
    "with tf.Session(graph=g) as sess:\n",
    "    print('Ranks:', r1.eval(), r2.eval(), r3.eval())\n",
    "    "
   ]
  },
  {
   "cell_type": "markdown",
   "metadata": {},
   "source": [
    "# TensorFlowの計算グラフ\n",
    "TensorFlowは複数のノードからなるネットワークである計算グラフを使って入力から出力に至る前のテンソル間の関係を抽出する．\n",
    "\n",
    "TensorFlowでの計算グラフの構築とコンパイルの手順は次のようになる.\n",
    "1. 新しいからの計算グラフをインスタンス化する．\n",
    "1. 計算グラフにノード(テンソルと演算)を追加する.\n",
    "1. 計算グラフを実行する．\n",
    " 1. 新しいセッションを開始する．\n",
    " 1. 計算グラフの変数を初期化する．\n",
    " 1. このセッションで計算グラフを実行する.\n",
    " \n",
    " 例としてz=2*(a-b)+cを評価するための計算グラフを作成する．\n",
    " \n",
    " a,b,cはスカラーであり，ここではTensorFlowの定数として定義する．計算グラフを作成するには，tf.Graph()を呼び出し，続いてノードを追加する．\n"
   ]
  },
  {
   "cell_type": "code",
   "execution_count": 4,
   "metadata": {},
   "outputs": [
    {
     "name": "stdout",
     "output_type": "stream",
     "text": [
      "2*(a-b)+c => 1\n"
     ]
    }
   ],
   "source": [
    "g = tf.Graph()\n",
    "\n",
    "## 計算グラフにノードを追加\n",
    "with g.as_default():\n",
    "    a = tf.constant(1, name='a')\n",
    "    b = tf.constant(2, name='b')\n",
    "    c = tf.constant(3, name='c')\n",
    "    z = 2 * (a - b) + c\n",
    "\n",
    "## 計算グラフを起動\n",
    "with tf.Session(graph=g) as sess:\n",
    "    print('2*(a-b)+c =>', sess.run(z))"
   ]
  },
  {
   "cell_type": "markdown",
   "metadata": {},
   "source": [
    "#### **TensorFlowでは計算グラフのコンテキスト内でテンソルと演算を定義することを覚えておく**\n",
    "#### そして計算グラフの演算の実行と結果の取得・評価にはTensorFlowセッションを使用する"
   ]
  },
  {
   "cell_type": "markdown",
   "metadata": {},
   "source": [
    "# TensorFlowのプレースホルダ"
   ]
  },
  {
   "cell_type": "markdown",
   "metadata": {},
   "source": [
    "プレースホルダは特定の型と形状に基づいて事前に定義されたテンソルである．\n",
    "\n",
    "ここでは次の項目について説明する．\n",
    "- 計算グラフでプレースホルダを定義する方法\n",
    "- 実行時にプレースホルダにデータを供給する方法\n",
    "- 形状が不明なプレースホルダを定義する方法"
   ]
  },
  {
   "cell_type": "markdown",
   "metadata": {},
   "source": [
    "## プレースホルダの定義\n",
    "まず，z=2*(a-b)+cを評価する単純な例を見てみる．今回はスカラーa,b,cにプレースホルダを使用する．"
   ]
  },
  {
   "cell_type": "code",
   "execution_count": 5,
   "metadata": {},
   "outputs": [],
   "source": [
    "g = tf.Graph()\n",
    "\n",
    "with g.as_default():\n",
    "    tf_a = tf.placeholder(tf.int32, shape=[], name='tf_a')\n",
    "    tf_b = tf.placeholder(tf.int32, shape=[], name='tf_b')\n",
    "    tf_c = tf.placeholder(tf.int32, shape=[], name='tf_c')\n",
    "    # 中間のテンソルを格納\n",
    "    r1 = tf_a - tf_b\n",
    "    r2 = 2 * r1\n",
    "    z = r2 + tf_c"
   ]
  },
  {
   "cell_type": "markdown",
   "metadata": {},
   "source": [
    "このコードではスカラーを扱ったのでプレースホルダの形状はshape=[]とした．ただし，より高次元のプレースホルダを定義するのは非常に簡単である．\n",
    "\n",
    "たとえば，階数が3，形状が3x4x5のプレースホルダをfloat型で定義する方法は次のようになる．\n",
    "```python\n",
    "tf.placeholder(dtype=tf.float32, shape=[2, 3, 4])\n",
    "```"
   ]
  },
  {
   "cell_type": "markdown",
   "metadata": {},
   "source": [
    "## プレースホルダにデータを供給する"
   ]
  },
  {
   "cell_type": "markdown",
   "metadata": {},
   "source": [
    "計算グラフのノードを実行するときには，プレースホルダの値としてデータ配列を供給するために，Pythonのディクショナリを作成する必要がある．\n",
    "\n",
    "このディクショナリは，プレースホルダの型と形状に従って作成され，TensorFlowセッションのrunメソッドの入力パラメータfeed_dictに引数として渡される．"
   ]
  },
  {
   "cell_type": "code",
   "execution_count": 6,
   "metadata": {},
   "outputs": [
    {
     "name": "stdout",
     "output_type": "stream",
     "text": [
      "z: 1\n"
     ]
    }
   ],
   "source": [
    "# 先の計算グラフを起動\n",
    "with tf.Session(graph=g) as sess:\n",
    "    feed = {tf_a:1, tf_b:2, tf_c:3}\n",
    "    print('z:', sess.run(z, feed_dict=feed))"
   ]
  },
  {
   "cell_type": "markdown",
   "metadata": {},
   "source": [
    "## 様々なバッチサイズに合わせてプレースホルダを定義する"
   ]
  },
  {
   "cell_type": "markdown",
   "metadata": {},
   "source": [
    "プレースホルダの便利な特徴の一つは，次元の大きさが可変である場合にNoneを指定できる事である．\n",
    "\n",
    "例えば，1つ目の次元が不明，または可変の階数2のプレースホルダを作成する方法は次のようになる．"
   ]
  },
  {
   "cell_type": "code",
   "execution_count": 7,
   "metadata": {},
   "outputs": [],
   "source": [
    "g = tf.Graph()\n",
    "with g.as_default():\n",
    "    tf_x = tf.placeholder(tf.float32, shape=[None, 2], name='tf_x')\n",
    "    x_mean = tf.reduce_mean(tf_x, axis=0, name='mean')"
   ]
  },
  {
   "cell_type": "code",
   "execution_count": 8,
   "metadata": {},
   "outputs": [
    {
     "name": "stdout",
     "output_type": "stream",
     "text": [
      "Feeding data with shape (5, 2)\n",
      "Result: [0.62 0.47]\n",
      "Feeding data with shape (10, 2)\n",
      "Result: [0.46 0.49]\n"
     ]
    }
   ],
   "source": [
    "np.random.seed(123)\n",
    "np.set_printoptions(precision=2)\n",
    "\n",
    "with tf.Session(graph=g) as sess:\n",
    "    x1 = np.random.uniform(low=0, high=1, size=(5, 2))\n",
    "    print('Feeding data with shape', x1.shape)\n",
    "    print('Result:',sess.run(x_mean, feed_dict={tf_x: x1}))\n",
    "    x2 = np.random.uniform(low=0, high=1, size=(10, 2))\n",
    "    print('Feeding data with shape', x2.shape)\n",
    "    print('Result:',sess.run(x_mean, feed_dict={tf_x: x2}))"
   ]
  },
  {
   "cell_type": "code",
   "execution_count": 9,
   "metadata": {},
   "outputs": [
    {
     "name": "stdout",
     "output_type": "stream",
     "text": [
      "Tensor(\"tf_x:0\", shape=(?, 2), dtype=float32)\n"
     ]
    }
   ],
   "source": [
    "print(tf_x)"
   ]
  },
  {
   "cell_type": "markdown",
   "metadata": {},
   "source": [
    "# TensorFlowの変数"
   ]
  },
  {
   "cell_type": "markdown",
   "metadata": {},
   "source": [
    "TensorFlowの変数はトレーニング中にモデルのパラメータの格納や更新を可能にする特殊なテンソルオブジェクトである．\n",
    "\n",
    "ここでは，次の項目について説明する．\n",
    "- 計算グラフで変数を定義する方法\n",
    "- セッションで変数を初期化する方法\n",
    "- いわゆる「変数スコープ」を使って変数をまとめる方法\n",
    "- 既存の変数を再利用する方法"
   ]
  },
  {
   "cell_type": "markdown",
   "metadata": {},
   "source": [
    "## 変数を定義する"
   ]
  },
  {
   "cell_type": "markdown",
   "metadata": {},
   "source": [
    "TensorFlowの変数は，ニューラルネットワークの入力層，隠れ層，出力層の重みなど，トレーニング中に更新することが可能なモデルのパラメータを格納する．変数を定義するときには，テンソルの値で初期化する必要がある．\n",
    "\n",
    "TensorFlowで変数を定義する方法は２つある．\n",
    "- tf.Variable(<初期値>, name=\"<変数名>\")\n",
    " - 新しい変数を表すオブジェクトを作成して計算グラフに追加\n",
    " - shape(形状)とdtype(型)を**明示的に設定する方法はないこと**に注意\n",
    " - 形状と型は初期値のものと同じに設定される\n",
    "- tf.get_variable(\"<変数名>\", ...>\n",
    " - 既存の変数を特定の名前で**再利用**するために使用できる\n",
    " - その名前が計算グラフに存在しない場合は新しい変数が作成される\n",
    " - そのため，名前は非常に重要であり，変数の第一引数が名前になっている\n",
    " - shapeとdtypeを明示的に設定できるが，これは新しい変数を作成するときのみ必要になる\n",
    " \n",
    " tf.get_variableには，tf.Variableよりも有利な点が2つある．\n",
    " - 既存の変数を再利用できる，さらにこの関数はXavier/Glorot初期化をデフォルトで使用する\n",
    " - イニシャライザの他にもテンソルを制御するためのパラメータが定義されている(ex.変数に対して正則化を追加可能)\n",
    " \n",
    " どちらの初期化手法でも，tf.Sessionで計算グラフを起動し，そのセッションでイニシャライザを明示的に実行しない限り，初期値が設定されないことに注意しなければならない．\n",
    " \n",
    " 変数オブジェクトを作成する方法は次のようになる．変数の初期値はnp.ndarrayから作成され，型は自動的に**推論**される．"
   ]
  },
  {
   "cell_type": "code",
   "execution_count": 10,
   "metadata": {},
   "outputs": [
    {
     "name": "stdout",
     "output_type": "stream",
     "text": [
      "<tf.Variable 'w:0' shape=(2, 4) dtype=int64_ref>\n"
     ]
    }
   ],
   "source": [
    "g1 = tf.Graph()\n",
    "\n",
    "with g1.as_default():\n",
    "    w = tf.Variable(np.array([[1, 2, 3, 4], [5, 6, 7, 8]]), name='w')\n",
    "    print(w)"
   ]
  },
  {
   "cell_type": "markdown",
   "metadata": {},
   "source": [
    "## 変数を初期化する"
   ]
  },
  {
   "cell_type": "markdown",
   "metadata": {},
   "source": [
    "ここで重要となるのは，**変数として定義されたテンソルのメモリが確保されるのが変数の初期化時である**ということ，そして**それまでは変数に値が含まれていないこと**である．\n",
    "\n",
    "このため，計算グラフのノードを実行する前に，そのノードへのパス上にある変数を初期化しなければならない．\n",
    "\n",
    "この変数の初期化プロセスでは，関連するテンソルのメモリを確保し，それらのテンソルに初期化処理を割り当てる．TensorFlowには，tf.global_variables_initializerという関数がある．この関数は，計算グラフに存在する変数を全て初期化するための演算子を返す．\n",
    "この演算子を実行すると，変数が次のように初期化される．"
   ]
  },
  {
   "cell_type": "code",
   "execution_count": 11,
   "metadata": {},
   "outputs": [
    {
     "name": "stdout",
     "output_type": "stream",
     "text": [
      "[[1 2 3 4]\n",
      " [5 6 7 8]]\n"
     ]
    }
   ],
   "source": [
    "with tf.Session(graph=g1) as sess:\n",
    "    sess.run(tf.global_variables_initializer())\n",
    "    print(sess.run(w))"
   ]
  },
  {
   "cell_type": "markdown",
   "metadata": {},
   "source": [
    "また，init_op = tf.global_variables_initializer()を使用するなどして，この演算子をオブジェクトに格納しておき，あとからsess.run(init_op)またはinit_op.run()を使って実行することも出来る．\n",
    "\n",
    "ただし，この演算子が作成されるタイミングが，**すべての変数が定義された後になるようにする必要がある．**\n",
    "\n",
    "例えば，次のコードでは，変数w1，演算子init_op，変数w2をこの順序で定義している．"
   ]
  },
  {
   "cell_type": "code",
   "execution_count": 12,
   "metadata": {},
   "outputs": [],
   "source": [
    "g2 = tf.Graph()\n",
    "\n",
    "with g2.as_default():\n",
    "    w1 = tf.Variable(1, name='w1')\n",
    "    init_op = tf.global_variables_initializer()\n",
    "    w2 = tf.Variable(2, name='w2')"
   ]
  },
  {
   "cell_type": "code",
   "execution_count": 13,
   "metadata": {},
   "outputs": [
    {
     "name": "stdout",
     "output_type": "stream",
     "text": [
      "w1: 1\n"
     ]
    }
   ],
   "source": [
    "# w1の評価はうまくいく\n",
    "with tf.Session(graph=g2) as sess:\n",
    "    sess.run(init_op)\n",
    "    print('w1:', sess.run(w1))"
   ]
  },
  {
   "cell_type": "code",
   "execution_count": 14,
   "metadata": {},
   "outputs": [
    {
     "ename": "FailedPreconditionError",
     "evalue": "Attempting to use uninitialized value w2\n\t [[Node: _retval_w2_0_0 = _Retval[T=DT_INT32, index=0, _device=\"/job:localhost/replica:0/task:0/device:CPU:0\"](w2)]]",
     "output_type": "error",
     "traceback": [
      "\u001b[0;31m---------------------------------------------------------------------------\u001b[0m",
      "\u001b[0;31mFailedPreconditionError\u001b[0m                   Traceback (most recent call last)",
      "\u001b[0;32m<ipython-input-14-e12e21177eee>\u001b[0m in \u001b[0;36m<module>\u001b[0;34m()\u001b[0m\n\u001b[1;32m      2\u001b[0m \u001b[0;32mwith\u001b[0m \u001b[0mtf\u001b[0m\u001b[0;34m.\u001b[0m\u001b[0mSession\u001b[0m\u001b[0;34m(\u001b[0m\u001b[0mgraph\u001b[0m\u001b[0;34m=\u001b[0m\u001b[0mg2\u001b[0m\u001b[0;34m)\u001b[0m \u001b[0;32mas\u001b[0m \u001b[0msess\u001b[0m\u001b[0;34m:\u001b[0m\u001b[0;34m\u001b[0m\u001b[0m\n\u001b[1;32m      3\u001b[0m     \u001b[0msess\u001b[0m\u001b[0;34m.\u001b[0m\u001b[0mrun\u001b[0m\u001b[0;34m(\u001b[0m\u001b[0minit_op\u001b[0m\u001b[0;34m)\u001b[0m\u001b[0;34m\u001b[0m\u001b[0m\n\u001b[0;32m----> 4\u001b[0;31m     \u001b[0;32mprint\u001b[0m\u001b[0;34m(\u001b[0m\u001b[0;34m'w2:'\u001b[0m\u001b[0;34m,\u001b[0m \u001b[0msess\u001b[0m\u001b[0;34m.\u001b[0m\u001b[0mrun\u001b[0m\u001b[0;34m(\u001b[0m\u001b[0mw2\u001b[0m\u001b[0;34m)\u001b[0m\u001b[0;34m)\u001b[0m\u001b[0;34m\u001b[0m\u001b[0m\n\u001b[0m",
      "\u001b[0;32m/home/yokota/.local/lib/python2.7/site-packages/tensorflow/python/client/session.pyc\u001b[0m in \u001b[0;36mrun\u001b[0;34m(self, fetches, feed_dict, options, run_metadata)\u001b[0m\n\u001b[1;32m    875\u001b[0m     \u001b[0;32mtry\u001b[0m\u001b[0;34m:\u001b[0m\u001b[0;34m\u001b[0m\u001b[0m\n\u001b[1;32m    876\u001b[0m       result = self._run(None, fetches, feed_dict, options_ptr,\n\u001b[0;32m--> 877\u001b[0;31m                          run_metadata_ptr)\n\u001b[0m\u001b[1;32m    878\u001b[0m       \u001b[0;32mif\u001b[0m \u001b[0mrun_metadata\u001b[0m\u001b[0;34m:\u001b[0m\u001b[0;34m\u001b[0m\u001b[0m\n\u001b[1;32m    879\u001b[0m         \u001b[0mproto_data\u001b[0m \u001b[0;34m=\u001b[0m \u001b[0mtf_session\u001b[0m\u001b[0;34m.\u001b[0m\u001b[0mTF_GetBuffer\u001b[0m\u001b[0;34m(\u001b[0m\u001b[0mrun_metadata_ptr\u001b[0m\u001b[0;34m)\u001b[0m\u001b[0;34m\u001b[0m\u001b[0m\n",
      "\u001b[0;32m/home/yokota/.local/lib/python2.7/site-packages/tensorflow/python/client/session.pyc\u001b[0m in \u001b[0;36m_run\u001b[0;34m(self, handle, fetches, feed_dict, options, run_metadata)\u001b[0m\n\u001b[1;32m   1098\u001b[0m     \u001b[0;32mif\u001b[0m \u001b[0mfinal_fetches\u001b[0m \u001b[0;32mor\u001b[0m \u001b[0mfinal_targets\u001b[0m \u001b[0;32mor\u001b[0m \u001b[0;34m(\u001b[0m\u001b[0mhandle\u001b[0m \u001b[0;32mand\u001b[0m \u001b[0mfeed_dict_tensor\u001b[0m\u001b[0;34m)\u001b[0m\u001b[0;34m:\u001b[0m\u001b[0;34m\u001b[0m\u001b[0m\n\u001b[1;32m   1099\u001b[0m       results = self._do_run(handle, final_targets, final_fetches,\n\u001b[0;32m-> 1100\u001b[0;31m                              feed_dict_tensor, options, run_metadata)\n\u001b[0m\u001b[1;32m   1101\u001b[0m     \u001b[0;32melse\u001b[0m\u001b[0;34m:\u001b[0m\u001b[0;34m\u001b[0m\u001b[0m\n\u001b[1;32m   1102\u001b[0m       \u001b[0mresults\u001b[0m \u001b[0;34m=\u001b[0m \u001b[0;34m[\u001b[0m\u001b[0;34m]\u001b[0m\u001b[0;34m\u001b[0m\u001b[0m\n",
      "\u001b[0;32m/home/yokota/.local/lib/python2.7/site-packages/tensorflow/python/client/session.pyc\u001b[0m in \u001b[0;36m_do_run\u001b[0;34m(self, handle, target_list, fetch_list, feed_dict, options, run_metadata)\u001b[0m\n\u001b[1;32m   1270\u001b[0m     \u001b[0;32mif\u001b[0m \u001b[0mhandle\u001b[0m \u001b[0;32mis\u001b[0m \u001b[0mNone\u001b[0m\u001b[0;34m:\u001b[0m\u001b[0;34m\u001b[0m\u001b[0m\n\u001b[1;32m   1271\u001b[0m       return self._do_call(_run_fn, feeds, fetches, targets, options,\n\u001b[0;32m-> 1272\u001b[0;31m                            run_metadata)\n\u001b[0m\u001b[1;32m   1273\u001b[0m     \u001b[0;32melse\u001b[0m\u001b[0;34m:\u001b[0m\u001b[0;34m\u001b[0m\u001b[0m\n\u001b[1;32m   1274\u001b[0m       \u001b[0;32mreturn\u001b[0m \u001b[0mself\u001b[0m\u001b[0;34m.\u001b[0m\u001b[0m_do_call\u001b[0m\u001b[0;34m(\u001b[0m\u001b[0m_prun_fn\u001b[0m\u001b[0;34m,\u001b[0m \u001b[0mhandle\u001b[0m\u001b[0;34m,\u001b[0m \u001b[0mfeeds\u001b[0m\u001b[0;34m,\u001b[0m \u001b[0mfetches\u001b[0m\u001b[0;34m)\u001b[0m\u001b[0;34m\u001b[0m\u001b[0m\n",
      "\u001b[0;32m/home/yokota/.local/lib/python2.7/site-packages/tensorflow/python/client/session.pyc\u001b[0m in \u001b[0;36m_do_call\u001b[0;34m(self, fn, *args)\u001b[0m\n\u001b[1;32m   1289\u001b[0m         \u001b[0;32mexcept\u001b[0m \u001b[0mKeyError\u001b[0m\u001b[0;34m:\u001b[0m\u001b[0;34m\u001b[0m\u001b[0m\n\u001b[1;32m   1290\u001b[0m           \u001b[0;32mpass\u001b[0m\u001b[0;34m\u001b[0m\u001b[0m\n\u001b[0;32m-> 1291\u001b[0;31m       \u001b[0;32mraise\u001b[0m \u001b[0mtype\u001b[0m\u001b[0;34m(\u001b[0m\u001b[0me\u001b[0m\u001b[0;34m)\u001b[0m\u001b[0;34m(\u001b[0m\u001b[0mnode_def\u001b[0m\u001b[0;34m,\u001b[0m \u001b[0mop\u001b[0m\u001b[0;34m,\u001b[0m \u001b[0mmessage\u001b[0m\u001b[0;34m)\u001b[0m\u001b[0;34m\u001b[0m\u001b[0m\n\u001b[0m\u001b[1;32m   1292\u001b[0m \u001b[0;34m\u001b[0m\u001b[0m\n\u001b[1;32m   1293\u001b[0m   \u001b[0;32mdef\u001b[0m \u001b[0m_extend_graph\u001b[0m\u001b[0;34m(\u001b[0m\u001b[0mself\u001b[0m\u001b[0;34m)\u001b[0m\u001b[0;34m:\u001b[0m\u001b[0;34m\u001b[0m\u001b[0m\n",
      "\u001b[0;31mFailedPreconditionError\u001b[0m: Attempting to use uninitialized value w2\n\t [[Node: _retval_w2_0_0 = _Retval[T=DT_INT32, index=0, _device=\"/job:localhost/replica:0/task:0/device:CPU:0\"](w2)]]"
     ]
    }
   ],
   "source": [
    "# w2の評価は失敗する\n",
    "with tf.Session(graph=g2) as sess:\n",
    "    sess.run(init_op)\n",
    "    print('w2:', sess.run(w2))"
   ]
  },
  {
   "cell_type": "markdown",
   "metadata": {},
   "source": [
    "## 変数スコープ"
   ]
  },
  {
   "cell_type": "markdown",
   "metadata": {},
   "source": [
    "変数スコープを利用すれば変数を別々のグループにまとめることが出来る．"
   ]
  },
  {
   "cell_type": "code",
   "execution_count": 19,
   "metadata": {},
   "outputs": [
    {
     "name": "stdout",
     "output_type": "stream",
     "text": [
      "<tf.Variable 'net_A/layer-1/weights:0' shape=(10, 4) dtype=float32_ref>\n",
      "<tf.Variable 'net_A/layer-2/weights:0' shape=(20, 10) dtype=float32_ref>\n",
      "<tf.Variable 'net_B/layer-1/weights:0' shape=(10, 4) dtype=float32_ref>\n"
     ]
    }
   ],
   "source": [
    "g = tf.Graph()\n",
    "\n",
    "with g.as_default():\n",
    "    with tf.variable_scope('net_A'):\n",
    "        with tf.variable_scope('layer-1'):\n",
    "            w1 = tf.Variable(tf.random_normal(shape=(10,4)), name='weights')\n",
    "        with tf.variable_scope('layer-2'):\n",
    "            w2 = tf.Variable(tf.random_normal(shape=(20,10)), name='weights')\n",
    "    with tf.variable_scope('net_B'):\n",
    "        with tf.variable_scope('layer-1'):\n",
    "            w3 = tf.Variable(tf.random_normal(shape=(10,4)), name='weights')\n",
    "    print(w1)\n",
    "    print(w2)\n",
    "    print(w3)"
   ]
  },
  {
   "cell_type": "markdown",
   "metadata": {},
   "source": [
    "## 変数を再利用する"
   ]
  },
  {
   "cell_type": "markdown",
   "metadata": {},
   "source": [
    "少し複雑なニューラルネットワークモデルを開発している場面を想像する．このモデルには，入力データが複数のソースから提供される分類器が含まれている．\n",
    "\n",
    "例えば，ソースAから$(X_{A}, y_{A})$というデータが提供され，ソースBから$(X_{B}, y_{B})$というデータが提供されるとする．\n",
    "\n",
    "この例では，1つのソースからのデータだけを，ネットワークを構築するための入力テンソルとして使用するような方法で，計算グラフを設計する．そして，もうひとつのソースからのデータは，同じ分類器に供給することが出来る．\n",
    "\n",
    "次の例では，ソースAからのデータがプレースホルダを通じて供給され，ソースBからのデータがジェネレータネットワークの出力であると仮定する．\n",
    "\n",
    "ジェネレータネットワークを構築するにはgeneratorスコープでbuild_generator関数を呼び出す．続いて，classifierスコープでbuild_classifier関数を呼び出すことで，分類器を追加する．"
   ]
  },
  {
   "cell_type": "code",
   "execution_count": 23,
   "metadata": {},
   "outputs": [],
   "source": [
    "# 分類器を構築するヘルパー関数\n",
    "def build_classifier(data, labels, n_classes=2):\n",
    "    data_shape = data.get_shape().as_list()\n",
    "    weights = tf.get_variable(name='weights',\n",
    "                              shape=(data_shape[1], n_classes),\n",
    "                              dtype=tf.float32)\n",
    "    bias = tf.get_variable(name='bias', initializer=tf.zeros(shape=n_classes))\n",
    "    logits = tf.add(tf.matmul(data, weights), bias, name='logits')\n",
    "    return logits, tf.nn.softmax(logits)\n",
    "\n",
    "# ジェネレータを構築するヘルパ関数\n",
    "def build_generator(data, n_hidden):\n",
    "    data_shape = data.get_shape().as_list()\n",
    "    w1 = tf.Variable(tf.random_normal(shape=(data_shape[1], n_hidden)), name='w1')\n",
    "    b1 = tf.Variable(tf.zeros(shape=n_hidden), name='b1')\n",
    "    hidden = tf.add(tf.matmul(data, w1), b1, name='hidden_pre-activation')\n",
    "    hidden = tf.nn.relu(hidden, 'hidden_activation')\n",
    "    w2 = tf.Variable(tf.random_normal(shape=(n_hidden, data_shape[1])), name='w2')\n",
    "    b2 = tf.Variable(tf.zeros(shape=data_shape[1]), name='b2')\n",
    "    output = tf.add(tf.matmul(hidden, w2), b2, name='output')\n",
    "    return output, tf.nn.sigmoid(output)\n",
    "\n",
    "# 計算グラフの構築\n",
    "batch_size = 64\n",
    "g = tf.Graph()\n",
    "\n",
    "with g.as_default():\n",
    "    tf_X = tf.placeholder(shape=(batch_size, 100),\n",
    "                          dtype=tf.float32,\n",
    "                          name='tf_X')\n",
    "    # ジェネレータを構築\n",
    "    with tf.variable_scope('generator'):\n",
    "        gen_out1 = build_generator(data=tf_X, n_hidden=50)\n",
    "        \n",
    "    # 分類器を構築\n",
    "    with tf.variable_scope('classifier') as scope:\n",
    "        # 元のデータに対する分類器\n",
    "        cls_out1 = build_classifier(data=tf_X, labels=tf.ones(shape=batch_size))\n",
    "        # 生成されたデータに対して分類器を再利用\n",
    "        scope.reuse_variables()\n",
    "        cls_out2 = build_classifier(data=gen_out1[1], labels=tf.zeros(shape=batch_size))\n",
    "        init_op = tf.global_variables_initializer()"
   ]
  },
  {
   "cell_type": "markdown",
   "metadata": {},
   "source": [
    "あるいは，tf.variable_scope()のreuseパラメータにTrueを指定するという方法でも変数を再利用できる．"
   ]
  },
  {
   "cell_type": "markdown",
   "metadata": {},
   "source": [
    "# 回帰モデルの構築"
   ]
  },
  {
   "cell_type": "markdown",
   "metadata": {},
   "source": [
    "線形回帰モデル$\\hat{y}=w\\times x+b$を実装する．\n",
    "\n",
    "次に，テンソルの数学的表記とコーディング時の名前をまとめる．\n",
    "- 入力$x$：プレースホルダtf_x\n",
    "- 入力$y$：プレースホルダtf_y\n",
    "- モデルのパラメータ$w$：変数weight\n",
    "- モデルのパラメータ$b$：変数bias\n",
    "- モデルの出力$\\hat{y}$：回帰モデルを使って予測値を計算するために，TensorFlowの演算によって返されるy_hat"
   ]
  },
  {
   "cell_type": "code",
   "execution_count": 24,
   "metadata": {},
   "outputs": [],
   "source": [
    "g = tf.Graph()\n",
    "with g.as_default():\n",
    "    tf.set_random_seed(123)\n",
    "    \n",
    "    # プレースホルダを定義\n",
    "    tf_x = tf.placeholder(shape=(None), dtype=tf.float32, name='tf_x')\n",
    "    tf_y = tf.placeholder(shape=(None), dtype=tf.float32, name='tf_y')\n",
    "    \n",
    "    # 変数(モデルのパラメータ)を定義\n",
    "    weight = tf.Variable(tf.random_normal(shape=(1, 1), stddev=0.25), name='weight')\n",
    "    bias = tf.Variable(0.0, name='bias')\n",
    "    \n",
    "    # モデルを構築\n",
    "    y_hat = tf.add(weight * tf_x, bias, name='y_hat')\n",
    "    \n",
    "    # コストを計算\n",
    "    cost = tf.reduce_mean(tf.square(tf_y - y_hat), name='cost')\n",
    "    \n",
    "    # モデルをトレーニング\n",
    "    optim = tf.train.GradientDescentOptimizer(learning_rate=0.001)\n",
    "    train_op = optim.minimize(cost, name='train_op')"
   ]
  },
  {
   "cell_type": "markdown",
   "metadata": {},
   "source": [
    "モデルのトレーニングを行う前に，テンソルを評価する方法と演算を実行する方法を見ておく．\n",
    "\n",
    "ここでは，make_random_data関数を使って特徴量が1つのランダムな回帰データを作成し，このデータを可視化する．"
   ]
  },
  {
   "cell_type": "code",
   "execution_count": 25,
   "metadata": {},
   "outputs": [],
   "source": [
    "# 回帰用の単純なランダムデータセットを作成\n",
    "import matplotlib.pyplot as plt\n",
    "np.random.seed(0)"
   ]
  },
  {
   "cell_type": "code",
   "execution_count": 26,
   "metadata": {},
   "outputs": [
    {
     "data": {
      "image/png": "[encoded data removed]",
      "text/plain": [
       "<matplotlib.figure.Figure at 0x7fe33682db10>"
      ]
     },
     "metadata": {},
     "output_type": "display_data"
    }
   ],
   "source": [
    "def make_random_data():\n",
    "    x = np.random.uniform(low=-2, high=4, size=200)\n",
    "    y = []\n",
    "    for t in x:\n",
    "        r = np.random.normal(loc=0.0, scale=(0.5 + t * t / 3), size=None)\n",
    "        y.append(r)\n",
    "    return x, 1.726 + x -0.84 + np.array(y)\n",
    "\n",
    "x, y = make_random_data()\n",
    "plt.plot(x, y, 'o')\n",
    "plt.show()"
   ]
  },
  {
   "cell_type": "markdown",
   "metadata": {},
   "source": [
    "次にモデルのトレーニングを行う．\n",
    "\n",
    "変数の初期化を行った後にtrain_opを実行しながらトレーニングコストを計算するforループを作成すれば良い．"
   ]
  },
  {
   "cell_type": "code",
   "execution_count": 28,
   "metadata": {},
   "outputs": [
    {
     "name": "stdout",
     "output_type": "stream",
     "text": [
      "Epoch   0:9.0677\n",
      "Epoch  50:6.5291\n",
      "Epoch 100:5.3627\n",
      "Epoch 150:4.8214\n",
      "Epoch 200:4.5656\n",
      "Epoch 250:4.4409\n",
      "Epoch 300:4.3768\n",
      "Epoch 350:4.3415\n",
      "Epoch 400:4.3200\n",
      "Epoch 450:4.3055\n"
     ]
    },
    {
     "data": {
      "image/png": "[encoded data removed]",
      "text/plain": [
       "<matplotlib.figure.Figure at 0x7fe3000e6e50>"
      ]
     },
     "metadata": {},
     "output_type": "display_data"
    }
   ],
   "source": [
    "# トレーニングデータとテストデータに分割\n",
    "x_train, y_train = x[:100], y[:100]\n",
    "x_test, y_test = x[100:], y[100:]\n",
    "\n",
    "n_epochs = 500\n",
    "training_costs = []\n",
    "\n",
    "with tf.Session(graph=g) as sess:\n",
    "    # 変数を初期化\n",
    "    sess.run(tf.global_variables_initializer())\n",
    "    \n",
    "    # 500エポックでモデルをトレーニング\n",
    "    for e in range(n_epochs):\n",
    "        c, _ = sess.run([cost, train_op], feed_dict={tf_x:x_train, tf_y:y_train})\n",
    "        training_costs.append(c)\n",
    "        if not e % 50:\n",
    "            print('Epoch{:4d}:{:.4f}'.format(e, c))\n",
    "\n",
    "plt.plot(training_costs)\n",
    "plt.show()\n",
    "\n",
    "\n"
   ]
  },
  {
   "cell_type": "markdown",
   "metadata": {},
   "source": [
    "# TensorFlowでのモデルの保存と復元"
   ]
  },
  {
   "cell_type": "markdown",
   "metadata": {},
   "source": [
    "学習済みのモデルはSessionを抜けるとメモリ上から解放されてしまう．\n",
    "\n",
    "そのため，後からテストデータを適用するような場面では学習済みモデルを保存しておくことである．\n",
    "\n",
    "それは計算グラフにtf.train.Saverクラスのインスタンスを新たなノードとして追加することにより実現される．\n",
    "\n",
    "その後，saver.save()を呼び出すことにより，.data, .index, .metaという拡張子がついた3角ファイルが作成される．\n",
    "TensorFlowは構造化データのシリアライズに言語非依存のフォーマットであるProtocolBuffersを使用する．"
   ]
  },
  {
   "cell_type": "code",
   "execution_count": 29,
   "metadata": {},
   "outputs": [
    {
     "name": "stdout",
     "output_type": "stream",
     "text": [
      "Epoch   0:9.0677\n",
      "Epoch  50:6.5291\n",
      "Epoch 100:5.3627\n",
      "Epoch 150:4.8214\n",
      "Epoch 200:4.5656\n",
      "Epoch 250:4.4409\n",
      "Epoch 300:4.3768\n",
      "Epoch 350:4.3415\n",
      "Epoch 400:4.3200\n",
      "Epoch 450:4.3055\n"
     ]
    }
   ],
   "source": [
    "# 計算グラフにsaverを追加\n",
    "with g.as_default():\n",
    "    saver = tf.train.Saver()\n",
    "    \n",
    "n_epochs = 500\n",
    "training_costs = []\n",
    "\n",
    "with tf.Session(graph=g) as sess:\n",
    "    # 変数を初期化\n",
    "    sess.run(tf.global_variables_initializer())\n",
    "    \n",
    "    # 500エポックでモデルをトレーニング\n",
    "    for e in range(n_epochs):\n",
    "        c, _ = sess.run([cost, train_op], feed_dict={tf_x:x_train, tf_y:y_train})\n",
    "        training_costs.append(c)\n",
    "        if not e % 50:\n",
    "            print('Epoch{:4d}:{:.4f}'.format(e, c))\n",
    "    saver.save(sess, 'model/trained-model')"
   ]
  },
  {
   "cell_type": "markdown",
   "metadata": {},
   "source": [
    "トレーニング済みモデルを復元する手順は次の２つである．\n",
    "1. モデルを保存した時と同じノードと名前で構成された計算グラフを再構築する\n",
    "1. 保存された変数を新しいtf.Session環境で復元する\n",
    "\n",
    "手順1では，モデルを保存した時と同じようにコードを実行して計算グラフgを構築すればよい．\n",
    "\n",
    "だが，もっと簡単な方法がある．計算グラフに関する情報は全て.metaファイルにメタデータとして保存されている．\n",
    "次のコードを使用すれば，.metaファイルからメタデータをインポートすることで，計算グラフを再構築できる．"
   ]
  },
  {
   "cell_type": "code",
   "execution_count": 30,
   "metadata": {},
   "outputs": [
    {
     "name": "stdout",
     "output_type": "stream",
     "text": [
      "INFO:tensorflow:Restoring parameters from model/trained-model\n"
     ]
    },
    {
     "data": {
      "image/png": "[encoded data removed]",
      "text/plain": [
       "<matplotlib.figure.Figure at 0x7fe3000663d0>"
      ]
     },
     "metadata": {},
     "output_type": "display_data"
    }
   ],
   "source": [
    "g2 = tf.Graph()\n",
    "\n",
    "x_arr = np.arange(-2, 4, 0.1)\n",
    "\n",
    "with tf.Session(graph=g2) as sess:\n",
    "    # 計算グラフを再構築\n",
    "    new_saver = tf.train.import_meta_graph('model/trained-model.meta')\n",
    "    # セッションを復元\n",
    "    new_saver.restore(sess, 'model/trained-model')\n",
    "    # 実行(y_hatというPythonの変数名でなく，y_hat:0 (:0は自動的に付加)というTensorFlowでの名前を指定)\n",
    "    y_arr = sess.run('y_hat:0', feed_dict={'tf_x:0':x_arr})\n",
    "\n",
    "plt.figure()\n",
    "plt.plot(x_train, y_train, 'bo')\n",
    "plt.plot(x_test, y_test, 'bo', alpha=0.3)\n",
    "plt.plot(x_arr, y_arr.T[:, 0], '-r', lw=3)\n",
    "plt.show()"
   ]
  },
  {
   "cell_type": "markdown",
   "metadata": {},
   "source": [
    "# テンソルを多次元配列として変換する"
   ]
  },
  {
   "cell_type": "code",
   "execution_count": 31,
   "metadata": {},
   "outputs": [
    {
     "name": "stdout",
     "output_type": "stream",
     "text": [
      "Tensor(\"T1:0\", shape=(3, 4), dtype=float64)\n",
      "Shape of T1 is  (3, 4)\n",
      "<tf.Variable 'Variable:0' shape=(3, 4) dtype=float32_ref>\n",
      "<tf.Variable 'Variable_1:0' shape=(3,) dtype=float32_ref>\n"
     ]
    }
   ],
   "source": [
    "g = tf.Graph()\n",
    "\n",
    "with g.as_default():\n",
    "    arr = np.array([[1.0, 2.0, 3.0, 3.5],\n",
    "                    [4.0, 5.0, 6.0, 6.5],\n",
    "                    [7.0, 8.0, 9.0, 9.5]])\n",
    "    T1 = tf.constant(arr, name='T1')\n",
    "    print(T1)\n",
    "    s = T1.get_shape()\n",
    "    print('Shape of T1 is ', s)\n",
    "    \n",
    "    T2 = tf.Variable(tf.random_normal(shape=s))\n",
    "    print(T2)\n",
    "    \n",
    "    T3 = tf.Variable(tf.random_normal(shape=(s.as_list()[0],)))\n",
    "    print(T3)"
   ]
  },
  {
   "cell_type": "code",
   "execution_count": 32,
   "metadata": {},
   "outputs": [
    {
     "data": {
      "text/plain": [
       "[3, 4]"
      ]
     },
     "execution_count": 32,
     "metadata": {},
     "output_type": "execute_result"
    }
   ],
   "source": [
    "s.as_list()"
   ]
  },
  {
   "cell_type": "code",
   "execution_count": 34,
   "metadata": {},
   "outputs": [
    {
     "data": {
      "text/plain": [
       "TensorShape([Dimension(3), Dimension(4)])"
      ]
     },
     "execution_count": 34,
     "metadata": {},
     "output_type": "execute_result"
    }
   ],
   "source": [
    "s"
   ]
  },
  {
   "cell_type": "markdown",
   "metadata": {},
   "source": [
    "次にテンソルの形状を変更する方法を見てみる．numpyではnp.reshapeやarr.reshapeを使用できるが，TensorFlowでも同様にtf.reshape関数を使用する．\n",
    "\n",
    "numpyと同様に1つの次元を-1に設定すると，新しい次元の大きさは配列全体の大きさと残りの指定された次元に基づいて推定される．\n",
    "\n",
    "次のコードでは，テンソルT1の形状をT4とT5に変更する．T4,T5はどちらも階数3のテンソルである．"
   ]
  },
  {
   "cell_type": "code",
   "execution_count": 35,
   "metadata": {},
   "outputs": [
    {
     "name": "stdout",
     "output_type": "stream",
     "text": [
      "Tensor(\"T4:0\", shape=(1, 1, 12), dtype=float64)\n",
      "Tensor(\"T5:0\", shape=(1, 3, 4), dtype=float64)\n"
     ]
    }
   ],
   "source": [
    "with g.as_default():\n",
    "    T4 = tf.reshape(T1, shape=[1, 1, -1], name='T4')\n",
    "    print(T4)\n",
    "    T5 = tf.reshape(T1, shape=[1, 3, -1], name='T5')\n",
    "    print(T5)"
   ]
  },
  {
   "cell_type": "code",
   "execution_count": 36,
   "metadata": {},
   "outputs": [
    {
     "name": "stdout",
     "output_type": "stream",
     "text": [
      "[[[1.  2.  3.  3.5 4.  5.  6.  6.5 7.  8.  9.  9.5]]]\n",
      "\n",
      "[[[1.  2.  3.  3.5]\n",
      "  [4.  5.  6.  6.5]\n",
      "  [7.  8.  9.  9.5]]]\n"
     ]
    }
   ],
   "source": [
    "with tf.Session(graph=g) as sess:\n",
    "    print(sess.run(T4))\n",
    "    print()\n",
    "    print(sess.run(T5))"
   ]
  },
  {
   "cell_type": "markdown",
   "metadata": {},
   "source": [
    "配列の転置はtf.transposeを使用する．\n",
    "\n",
    "tf.transpose関数では，通常の転置演算に加えて，次元の順番を任意に入れ替えることも出来る．その場合は順番をperm=[...]で指定する．"
   ]
  },
  {
   "cell_type": "code",
   "execution_count": 38,
   "metadata": {},
   "outputs": [
    {
     "name": "stdout",
     "output_type": "stream",
     "text": [
      "Tensor(\"T6_1:0\", shape=(4, 3, 1), dtype=float64)\n",
      "Tensor(\"T7_1:0\", shape=(1, 4, 3), dtype=float64)\n",
      "[[[1. ]\n",
      "  [4. ]\n",
      "  [7. ]]\n",
      "\n",
      " [[2. ]\n",
      "  [5. ]\n",
      "  [8. ]]\n",
      "\n",
      " [[3. ]\n",
      "  [6. ]\n",
      "  [9. ]]\n",
      "\n",
      " [[3.5]\n",
      "  [6.5]\n",
      "  [9.5]]]\n",
      "\n",
      "[[[1.  4.  7. ]\n",
      "  [2.  5.  8. ]\n",
      "  [3.  6.  9. ]\n",
      "  [3.5 6.5 9.5]]]\n"
     ]
    }
   ],
   "source": [
    "with g.as_default():\n",
    "    T6 = tf.transpose(T5, perm=[2, 1, 0], name='T6')\n",
    "    print(T6)\n",
    "    T7 = tf.transpose(T5, perm=[0, 2, 1], name='T7')\n",
    "    print(T7)\n",
    "    \n",
    "with tf.Session(graph=g) as sess:\n",
    "    print(sess.run(T6))\n",
    "    print()\n",
    "    print(sess.run(T7))"
   ]
  },
  {
   "cell_type": "markdown",
   "metadata": {},
   "source": [
    "次に，テンソルをサブテンソルのリストに分割することも出来る．これにはtf.split関数を使用する．"
   ]
  },
  {
   "cell_type": "code",
   "execution_count": 39,
   "metadata": {},
   "outputs": [
    {
     "name": "stdout",
     "output_type": "stream",
     "text": [
      "[<tf.Tensor 'T8:0' shape=(1, 3, 2) dtype=float64>, <tf.Tensor 'T8:1' shape=(1, 3, 2) dtype=float64>]\n"
     ]
    }
   ],
   "source": [
    "with g.as_default():\n",
    "    t5_split = tf.split(T5, num_or_size_splits=2, axis=2, name='T8')\n",
    "    print(t5_split)"
   ]
  },
  {
   "cell_type": "code",
   "execution_count": 44,
   "metadata": {},
   "outputs": [
    {
     "name": "stdout",
     "output_type": "stream",
     "text": [
      "[[[1. 2.]\n",
      "  [4. 5.]\n",
      "  [7. 8.]]]\n",
      "\n",
      "[[[3.  3.5]\n",
      "  [6.  6.5]\n",
      "  [9.  9.5]]]\n"
     ]
    }
   ],
   "source": [
    "with tf.Session(graph=g) as sess:\n",
    "    print(sess.run('T8:0'))\n",
    "    print()\n",
    "    print(sess.run('T8:1'))"
   ]
  },
  {
   "cell_type": "markdown",
   "metadata": {},
   "source": [
    "最後に，複数のテンソルの連結も有益な変換の1つである．それぞれ同じ形状と型をもつテンソルのリストがある場合は，それらのテンソルを1つの大きなテンソルにまとめることができる．\n",
    "\n",
    "次に示すように，これにはtf.concat関数を使用する．"
   ]
  },
  {
   "cell_type": "code",
   "execution_count": 46,
   "metadata": {},
   "outputs": [
    {
     "name": "stdout",
     "output_type": "stream",
     "text": [
      "Tensor(\"t1:0\", shape=(5, 1), dtype=float32)\n",
      "Tensor(\"t2:0\", shape=(5, 1), dtype=float32)\n",
      "Tensor(\"t3:0\", shape=(10, 1), dtype=float32)\n",
      "Tensor(\"t4:0\", shape=(5, 2), dtype=float32)\n",
      "[[1.]\n",
      " [1.]\n",
      " [1.]\n",
      " [1.]\n",
      " [1.]\n",
      " [0.]\n",
      " [0.]\n",
      " [0.]\n",
      " [0.]\n",
      " [0.]]\n",
      "\n",
      "[[1. 0.]\n",
      " [1. 0.]\n",
      " [1. 0.]\n",
      " [1. 0.]\n",
      " [1. 0.]]\n"
     ]
    }
   ],
   "source": [
    "g = tf.Graph()\n",
    "\n",
    "with g.as_default():\n",
    "    t1 = tf.ones(shape=(5, 1), dtype=tf.float32, name='t1')\n",
    "    t2 = tf.zeros(shape=(5, 1), dtype=tf.float32, name='t2')\n",
    "    print(t1)\n",
    "    print(t2)\n",
    "    \n",
    "with g.as_default():\n",
    "    t3 = tf.concat([t1, t2], axis=0, name='t3')\n",
    "    print(t3)\n",
    "    t4 = tf.concat([t1, t2], axis=1, name='t4')\n",
    "    print(t4)\n",
    "\n",
    "with tf.Session(graph=g) as sess:\n",
    "    print(t3.eval())\n",
    "    print()\n",
    "    print(t4.eval())"
   ]
  },
  {
   "cell_type": "markdown",
   "metadata": {},
   "source": [
    "# 計算グラフの構築に制御フローを使用する"
   ]
  },
  {
   "cell_type": "markdown",
   "metadata": {},
   "source": [
    "TensorFlowには，計算グラフの構築時に意思決定を行うためのメカニズムがある．\n",
    "\n",
    "ただし，計算グラフの構築にPythonの制御フロー文を使用する場合と比較して，TensorFlowの制御フロー関数には微妙な違いがいくつかある．\n",
    "\n",
    "単純なサンプルコードを使ってそれらの違いを具体的に示すために，TensorFlowで次式を実装することについて考えてみよう．\n",
    "\n",
    "\n",
    "$$\n",
    "res = \\left\\{\n",
    "\\begin{array}{ll}\n",
    "x+y & (x \\lt y) \\\\\n",
    "x-y & (x \\geq y)\n",
    "\\end{array}\n",
    "\\right.\n",
    "$$\n",
    "\n",
    "\n",
    "単にPythonのif文を使って上式に相当する計算グラフを構築する方法は，次のようになる．"
   ]
  },
  {
   "cell_type": "code",
   "execution_count": 47,
   "metadata": {},
   "outputs": [
    {
     "name": "stdout",
     "output_type": "stream",
     "text": [
      "Object: Tensor(\"result_add:0\", dtype=float32)\n",
      "x < y:True -> Result: 3.0\n",
      "x < y:False -> Result: 3.0\n"
     ]
    }
   ],
   "source": [
    "x, y = 1.0, 2.0\n",
    "g = tf.Graph()\n",
    "\n",
    "with g.as_default():\n",
    "    tf_x = tf.placeholder(dtype=tf.float32, shape=None, name='tf_x')\n",
    "    tf_y = tf.placeholder(dtype=tf.float32, shape=None, name='tf_y')\n",
    "    \n",
    "    if x < y:\n",
    "        res = tf.add(tf_x, tf_y, name='result_add')\n",
    "    else:\n",
    "        res = tf.subtract(tf_x, tf_y, name='result_sub')\n",
    "    print('Object:', res)\n",
    "\n",
    "with tf.Session(graph=g) as sess:\n",
    "    print('x < y:{} -> Result:'.format(x < y), res.eval(feed_dict={'tf_x:0':x, 'tf_y:0':y}))\n",
    "    x, y = 2.0, 1.0\n",
    "    print('x < y:{} -> Result:'.format(x < y), res.eval(feed_dict={'tf_x:0':x, 'tf_y:0':y}))\n",
    "        \n",
    "    "
   ]
  },
  {
   "cell_type": "markdown",
   "metadata": {},
   "source": [
    "このコードで示したとおり，どちらも加算が行われている．\n",
    "\n",
    "つまり，TensorFlowの計算グラフは静的であり，計算グラフが構築された後は実行プロセスが終了するまで変化しないままとなる．\n",
    "\n",
    "次に，TensorFlowの制御フローメカニズムを試してみる．次のコードでは，Pythonのif文の代わりにtf.cond関数を使用することで上式を実装する．"
   ]
  },
  {
   "cell_type": "code",
   "execution_count": 48,
   "metadata": {},
   "outputs": [
    {
     "name": "stdout",
     "output_type": "stream",
     "text": [
      "Object: Tensor(\"cond/Merge:0\", dtype=float32)\n",
      "x < y:True -> Result: 3.0\n",
      "x < y:False -> Result: 1.0\n"
     ]
    }
   ],
   "source": [
    "x, y = 1.0, 2.0\n",
    "g = tf.Graph()\n",
    "\n",
    "with g.as_default():\n",
    "    tf_x = tf.placeholder(dtype=tf.float32, shape=None, name='tf_x')\n",
    "    tf_y = tf.placeholder(dtype=tf.float32, shape=None, name='tf_y')\n",
    "    \n",
    "    res = tf.cond(tf_x < tf_y,\n",
    "                  lambda: tf.add(tf_x, tf_y, name='result_add'),\n",
    "                  lambda: tf.subtract(tf_x, tf_y, name='result_sub'))\n",
    "    \n",
    "    print('Object:', res)\n",
    "\n",
    "with tf.Session(graph=g) as sess:\n",
    "    print('x < y:{} -> Result:'.format(x < y), res.eval(feed_dict={'tf_x:0':x, 'tf_y:0':y}))\n",
    "    x, y = 2.0, 1.0\n",
    "    print('x < y:{} -> Result:'.format(x < y), res.eval(feed_dict={'tf_x:0':x, 'tf_y:0':y}))\n",
    "        \n",
    "    "
   ]
  },
  {
   "cell_type": "markdown",
   "metadata": {},
   "source": [
    "このコードの出力に示されているように，resオブジェクトは\"cond/Merge:0\"という名前のテンソルである．\n",
    "\n",
    "この場合の計算グラフは，2つの分岐と，実行時にどちらの分岐に進むのかを判断するメカニズムで構成されている．\n",
    "\n",
    "TensorFlowではtf.cond関数の他にもtf.caseや，tf.while_loopといった制御フロー関数を提供している．\n",
    "例えば，tf.caseはTensorFlowにおいてPythonのif...else文に相当する．次に示すPythonの式について考えてみる．"
   ]
  },
  {
   "cell_type": "code",
   "execution_count": 49,
   "metadata": {},
   "outputs": [],
   "source": [
    "if (x < y):\n",
    "    result = 1\n",
    "else:\n",
    "    result = 0"
   ]
  },
  {
   "cell_type": "markdown",
   "metadata": {},
   "source": [
    "このコードに相当する条件分岐を，TensorFlowの計算グラフで実装する場合，次のようにtf.caseを使用する．"
   ]
  },
  {
   "cell_type": "code",
   "execution_count": 50,
   "metadata": {},
   "outputs": [],
   "source": [
    "f1 = lambda: tf.constant(1)\n",
    "f2 = lambda: tf.constant(0)\n",
    "result = tf.case([(tf.less(x, y), f1)], default=f2)"
   ]
  },
  {
   "cell_type": "markdown",
   "metadata": {},
   "source": [
    "また，TensorFlowの計算グラフで，変数iの値を1からしきい値(threshold)までインクリメントするループ処理は次のようにtf.while_loopを使用する．(tf.while_loopでは，cond=cの値がtrueの間，body=bの処理が行われる)"
   ]
  },
  {
   "cell_type": "code",
   "execution_count": 51,
   "metadata": {},
   "outputs": [],
   "source": [
    "i = tf.constant(0)\n",
    "threshold = 100\n",
    "c = lambda i: tf.less(i, 100)\n",
    "b = lambda i: tf.add(i, 1)\n",
    "r = tf.while_loop(cond=c, body=b, loop_vars=[i])"
   ]
  },
  {
   "cell_type": "markdown",
   "metadata": {},
   "source": [
    "TensorFlowの様々な制御フロー演算子については，TensorFlowの公式ドキュメントに詳しい説明がある．\n",
    "\n",
    "ところで，これらの計算グラフはTensorBoardによって生成されたものである．次節では，計算グラフを可視化するTensorBoardを詳しく見ていく."
   ]
  },
  {
   "cell_type": "markdown",
   "metadata": {},
   "source": [
    "# 計算グラフをTensorBoardで可視化する"
   ]
  },
  {
   "cell_type": "markdown",
   "metadata": {},
   "source": [
    "TensorBoardは，計算グラフとモデルの学習を可視化するためのモジュールである．計算グラフを可視化すれば，ノード間の結合を確認し，ノードの依存関係を調べて，必要であればモデルをデバッグすることも出来る．\n",
    "\n",
    "早速，本章で構築したニューラルネットワークを可視化してみる．\n",
    "\n",
    "このニューラルネットワークはジェネレータと分類器で構成されている．ここでは2つのヘルパー関数build_generatorとbuild_classifierを再び使用する．これらのヘルパー関数を使用して，計算グラフを次のように構築する．"
   ]
  },
  {
   "cell_type": "code",
   "execution_count": 52,
   "metadata": {},
   "outputs": [],
   "source": [
    "batch_size = 64\n",
    "g = tf.Graph()\n",
    "\n",
    "with g.as_default():\n",
    "    tf_X = tf.placeholder(shape=(batch_size, 100),\n",
    "                          dtype=tf.float32,\n",
    "                          name='tf_X')\n",
    "    # ジェネレータを構築\n",
    "    with tf.variable_scope('generator'):\n",
    "        gen_out1 = build_generator(data=tf_X, n_hidden=50)\n",
    "    \n",
    "    # 分類器を構築\n",
    "    with tf.variable_scope('classifier') as scope:\n",
    "        # 元のデータに対する分類器\n",
    "        cls_out1 = build_classifier(data=tf_X, labels=tf.ones(shape=batch_size))\n",
    "        # 生成されたデータに対して分類器を再利用\n",
    "        scope.reuse_variables()\n",
    "        cls_out2 = build_classifier(data=gen_out1[1], labels=tf.zeros(shape=batch_size))\n",
    "        \n",
    "# 計算グラフを可視化\n",
    "with tf.Session(graph=g) as sess:\n",
    "    sess.run(tf.global_variables_initializer())\n",
    "    file_writer = tf.summary.FileWriter(logdir='logs/', graph=g)"
   ]
  },
  {
   "cell_type": "code",
   "execution_count": null,
   "metadata": {},
   "outputs": [
    {
     "name": "stdout",
     "output_type": "stream",
     "text": [
      "/home/yokota/.local/lib/python2.7/site-packages/requests/__init__.py:83: RequestsDependencyWarning: Old version of cryptography ([1, 2, 3]) may cause slowdown.\n",
      "  warnings.warn(warning, RequestsDependencyWarning)\n",
      "TensorBoard 1.10.0 at http://yokota-H81M-DS2V:6006 (Press CTRL+C to quit)\n"
     ]
    }
   ],
   "source": [
    "!tensorboard --logdir logs/"
   ]
  },
  {
   "cell_type": "code",
   "execution_count": null,
   "metadata": {},
   "outputs": [],
   "source": []
  }
 ],
 "metadata": {
  "kernelspec": {
   "display_name": "Python 2",
   "language": "python",
   "name": "python2"
  },
  "language_info": {
   "codemirror_mode": {
    "name": "ipython",
    "version": 2
   },
   "file_extension": ".py",
   "mimetype": "text/x-python",
   "name": "python",
   "nbconvert_exporter": "python",
   "pygments_lexer": "ipython2",
   "version": "2.7.12"
  }
 },
 "nbformat": 4,
 "nbformat_minor": 2
}
